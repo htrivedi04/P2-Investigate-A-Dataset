{
 "cells": [
  {
   "cell_type": "markdown",
   "metadata": {},
   "source": [
    "# P2 : Investigate A Dataset\n",
    "\n",
    "#### Investigating the Titanic Dataset. This dataset contains demographics and passenger information from 891 of the 2224 passengers and crew on board the Titanic (taken from www.kaggle.com/c/titanic/data)."
   ]
  },
  {
   "cell_type": "markdown",
   "metadata": {},
   "source": [
    "## Description Of The Dataset \n",
    "VARIABLE DESCRIPTIONS:\n",
    "survival -      Survival\n",
    "                (0 = No; 1 = Yes)\n",
    "pclass   -      Passenger Class\n",
    "                (1 = 1st; 2 = 2nd; 3 = 3rd)\n",
    "name     -      Name\n",
    "sex      -      Sex\n",
    "age      -      Age\n",
    "sibsp    -      Number of Siblings/Spouses Aboard\n",
    "parch    -      Number of Parents/Children Aboard\n",
    "ticket   -      Ticket Number\n",
    "fare     -      Passenger Fare\n",
    "cabin    -      Cabin\n",
    "embarked -      Port of Embarkation\n",
    "                (C = Cherbourg; Q = Queenstown; S = Southampton)\n",
    "\n",
    "SPECIAL NOTES:\n",
    "Pclass is a proxy for socio-economic status (SES)\n",
    " 1st ~ Upper; 2nd ~ Middle; 3rd ~ Lower\n",
    "\n",
    "With respect to the family relation variables (i.e. sibsp and parch)\n",
    "some relations were ignored.  The following are the definitions used\n",
    "for sibsp and parch.\n",
    "\n",
    "Sibling : Brother, Sister, Stepbrother, or Stepsister of Passenger Aboard Titanic\n",
    "Spouse  : Husband or Wife of Passenger Aboard Titanic (Mistresses and Fiances Ignored)\n",
    "Parent  : Mother or Father of Passenger Aboard Titanic\n",
    "Child   : Son, Daughter, Stepson, or Stepdaughter of Passenger Aboard Titanic"
   ]
  },
  {
   "cell_type": "markdown",
   "metadata": {},
   "source": [
    "## Question Phase\n",
    "\n",
    "#### 1. Did factors like Age, Sex and Socio-Economic Status play a role in the survival of a passenger? If so, then to what extent?\n",
    "#### 2. Did traveling with family (parents, children, siblings or spouse) increase the chance of survival of a passenger? If so, then to what extent?\n",
    "#### 3. Did the location of a passenger's cabin affect the chances of his/her survival?"
   ]
  },
  {
   "cell_type": "markdown",
   "metadata": {},
   "source": [
    "## Wrangling Phase\n",
    "\n",
    "#### (i) Data Acquisition"
   ]
  },
  {
   "cell_type": "code",
   "execution_count": 2,
   "metadata": {
    "collapsed": false
   },
   "outputs": [
    {
     "data": {
      "text/html": [
       "<div>\n",
       "<table border=\"1\" class=\"dataframe\">\n",
       "  <thead>\n",
       "    <tr style=\"text-align: right;\">\n",
       "      <th></th>\n",
       "      <th>PassengerId</th>\n",
       "      <th>Survived</th>\n",
       "      <th>Pclass</th>\n",
       "      <th>Name</th>\n",
       "      <th>Sex</th>\n",
       "      <th>Age</th>\n",
       "      <th>SibSp</th>\n",
       "      <th>Parch</th>\n",
       "      <th>Ticket</th>\n",
       "      <th>Fare</th>\n",
       "      <th>Cabin</th>\n",
       "      <th>Embarked</th>\n",
       "    </tr>\n",
       "  </thead>\n",
       "  <tbody>\n",
       "    <tr>\n",
       "      <th>0</th>\n",
       "      <td>1</td>\n",
       "      <td>0</td>\n",
       "      <td>3</td>\n",
       "      <td>Braund, Mr. Owen Harris</td>\n",
       "      <td>male</td>\n",
       "      <td>22</td>\n",
       "      <td>1</td>\n",
       "      <td>0</td>\n",
       "      <td>A/5 21171</td>\n",
       "      <td>7.2500</td>\n",
       "      <td>NaN</td>\n",
       "      <td>S</td>\n",
       "    </tr>\n",
       "    <tr>\n",
       "      <th>1</th>\n",
       "      <td>2</td>\n",
       "      <td>1</td>\n",
       "      <td>1</td>\n",
       "      <td>Cumings, Mrs. John Bradley (Florence Briggs Th...</td>\n",
       "      <td>female</td>\n",
       "      <td>38</td>\n",
       "      <td>1</td>\n",
       "      <td>0</td>\n",
       "      <td>PC 17599</td>\n",
       "      <td>71.2833</td>\n",
       "      <td>C85</td>\n",
       "      <td>C</td>\n",
       "    </tr>\n",
       "    <tr>\n",
       "      <th>2</th>\n",
       "      <td>3</td>\n",
       "      <td>1</td>\n",
       "      <td>3</td>\n",
       "      <td>Heikkinen, Miss. Laina</td>\n",
       "      <td>female</td>\n",
       "      <td>26</td>\n",
       "      <td>0</td>\n",
       "      <td>0</td>\n",
       "      <td>STON/O2. 3101282</td>\n",
       "      <td>7.9250</td>\n",
       "      <td>NaN</td>\n",
       "      <td>S</td>\n",
       "    </tr>\n",
       "    <tr>\n",
       "      <th>3</th>\n",
       "      <td>4</td>\n",
       "      <td>1</td>\n",
       "      <td>1</td>\n",
       "      <td>Futrelle, Mrs. Jacques Heath (Lily May Peel)</td>\n",
       "      <td>female</td>\n",
       "      <td>35</td>\n",
       "      <td>1</td>\n",
       "      <td>0</td>\n",
       "      <td>113803</td>\n",
       "      <td>53.1000</td>\n",
       "      <td>C123</td>\n",
       "      <td>S</td>\n",
       "    </tr>\n",
       "    <tr>\n",
       "      <th>4</th>\n",
       "      <td>5</td>\n",
       "      <td>0</td>\n",
       "      <td>3</td>\n",
       "      <td>Allen, Mr. William Henry</td>\n",
       "      <td>male</td>\n",
       "      <td>35</td>\n",
       "      <td>0</td>\n",
       "      <td>0</td>\n",
       "      <td>373450</td>\n",
       "      <td>8.0500</td>\n",
       "      <td>NaN</td>\n",
       "      <td>S</td>\n",
       "    </tr>\n",
       "  </tbody>\n",
       "</table>\n",
       "</div>"
      ],
      "text/plain": [
       "   PassengerId  Survived  Pclass  \\\n",
       "0            1         0       3   \n",
       "1            2         1       1   \n",
       "2            3         1       3   \n",
       "3            4         1       1   \n",
       "4            5         0       3   \n",
       "\n",
       "                                                Name     Sex  Age  SibSp  \\\n",
       "0                            Braund, Mr. Owen Harris    male   22      1   \n",
       "1  Cumings, Mrs. John Bradley (Florence Briggs Th...  female   38      1   \n",
       "2                             Heikkinen, Miss. Laina  female   26      0   \n",
       "3       Futrelle, Mrs. Jacques Heath (Lily May Peel)  female   35      1   \n",
       "4                           Allen, Mr. William Henry    male   35      0   \n",
       "\n",
       "   Parch            Ticket     Fare Cabin Embarked  \n",
       "0      0         A/5 21171   7.2500   NaN        S  \n",
       "1      0          PC 17599  71.2833   C85        C  \n",
       "2      0  STON/O2. 3101282   7.9250   NaN        S  \n",
       "3      0            113803  53.1000  C123        S  \n",
       "4      0            373450   8.0500   NaN        S  "
      ]
     },
     "execution_count": 2,
     "metadata": {},
     "output_type": "execute_result"
    }
   ],
   "source": [
    "## Loading the data into Python\n",
    "\n",
    "import pandas as pd\n",
    "\n",
    "passengerinfo_file='C:/Users/Trivedi/Desktop/Data Analytics/P2/P2 - Titanic Data/titanic_data.csv'\n",
    "passengerinfo = pd.read_csv(passengerinfo_file)\n",
    "passengerinfo.head()"
   ]
  },
  {
   "cell_type": "markdown",
   "metadata": {},
   "source": [
    "Just looking at the data, one can see that the relating to Age and Cabin of quite a few passengers is missing. This may lead to an incomplete analysis of Q1 and Q3. However, most of the data relating to Pclass (Socio-economic class), Sex, SibSp (Siblings/Spouse) and Parch (Parent/Child) is present here which can result in a reasonable analysis for Q1 and Q2.\n",
    "\n",
    "#### (ii) Data Cleaning"
   ]
  },
  {
   "cell_type": "code",
   "execution_count": 3,
   "metadata": {
    "collapsed": false
   },
   "outputs": [
    {
     "data": {
      "text/html": [
       "<div>\n",
       "<table border=\"1\" class=\"dataframe\">\n",
       "  <thead>\n",
       "    <tr style=\"text-align: right;\">\n",
       "      <th></th>\n",
       "      <th>PassengerId</th>\n",
       "      <th>Survived</th>\n",
       "      <th>Pclass</th>\n",
       "      <th>Name</th>\n",
       "      <th>Sex</th>\n",
       "      <th>Age</th>\n",
       "      <th>SibSp</th>\n",
       "      <th>Parch</th>\n",
       "      <th>Ticket</th>\n",
       "      <th>Fare</th>\n",
       "      <th>Cabin</th>\n",
       "      <th>Embarked</th>\n",
       "    </tr>\n",
       "  </thead>\n",
       "  <tbody>\n",
       "    <tr>\n",
       "      <th>1</th>\n",
       "      <td>2</td>\n",
       "      <td>1</td>\n",
       "      <td>1</td>\n",
       "      <td>Cumings, Mrs. John Bradley (Florence Briggs Th...</td>\n",
       "      <td>female</td>\n",
       "      <td>38</td>\n",
       "      <td>1</td>\n",
       "      <td>0</td>\n",
       "      <td>PC 17599</td>\n",
       "      <td>71.2833</td>\n",
       "      <td>C85</td>\n",
       "      <td>C</td>\n",
       "    </tr>\n",
       "    <tr>\n",
       "      <th>3</th>\n",
       "      <td>4</td>\n",
       "      <td>1</td>\n",
       "      <td>1</td>\n",
       "      <td>Futrelle, Mrs. Jacques Heath (Lily May Peel)</td>\n",
       "      <td>female</td>\n",
       "      <td>35</td>\n",
       "      <td>1</td>\n",
       "      <td>0</td>\n",
       "      <td>113803</td>\n",
       "      <td>53.1000</td>\n",
       "      <td>C123</td>\n",
       "      <td>S</td>\n",
       "    </tr>\n",
       "    <tr>\n",
       "      <th>6</th>\n",
       "      <td>7</td>\n",
       "      <td>0</td>\n",
       "      <td>1</td>\n",
       "      <td>McCarthy, Mr. Timothy J</td>\n",
       "      <td>male</td>\n",
       "      <td>54</td>\n",
       "      <td>0</td>\n",
       "      <td>0</td>\n",
       "      <td>17463</td>\n",
       "      <td>51.8625</td>\n",
       "      <td>E46</td>\n",
       "      <td>S</td>\n",
       "    </tr>\n",
       "    <tr>\n",
       "      <th>10</th>\n",
       "      <td>11</td>\n",
       "      <td>1</td>\n",
       "      <td>3</td>\n",
       "      <td>Sandstrom, Miss. Marguerite Rut</td>\n",
       "      <td>female</td>\n",
       "      <td>4</td>\n",
       "      <td>1</td>\n",
       "      <td>1</td>\n",
       "      <td>PP 9549</td>\n",
       "      <td>16.7000</td>\n",
       "      <td>G6</td>\n",
       "      <td>S</td>\n",
       "    </tr>\n",
       "    <tr>\n",
       "      <th>11</th>\n",
       "      <td>12</td>\n",
       "      <td>1</td>\n",
       "      <td>1</td>\n",
       "      <td>Bonnell, Miss. Elizabeth</td>\n",
       "      <td>female</td>\n",
       "      <td>58</td>\n",
       "      <td>0</td>\n",
       "      <td>0</td>\n",
       "      <td>113783</td>\n",
       "      <td>26.5500</td>\n",
       "      <td>C103</td>\n",
       "      <td>S</td>\n",
       "    </tr>\n",
       "  </tbody>\n",
       "</table>\n",
       "</div>"
      ],
      "text/plain": [
       "    PassengerId  Survived  Pclass  \\\n",
       "1             2         1       1   \n",
       "3             4         1       1   \n",
       "6             7         0       1   \n",
       "10           11         1       3   \n",
       "11           12         1       1   \n",
       "\n",
       "                                                 Name     Sex  Age  SibSp  \\\n",
       "1   Cumings, Mrs. John Bradley (Florence Briggs Th...  female   38      1   \n",
       "3        Futrelle, Mrs. Jacques Heath (Lily May Peel)  female   35      1   \n",
       "6                             McCarthy, Mr. Timothy J    male   54      0   \n",
       "10                    Sandstrom, Miss. Marguerite Rut  female    4      1   \n",
       "11                           Bonnell, Miss. Elizabeth  female   58      0   \n",
       "\n",
       "    Parch    Ticket     Fare Cabin Embarked  \n",
       "1       0  PC 17599  71.2833   C85        C  \n",
       "3       0    113803  53.1000  C123        S  \n",
       "6       0     17463  51.8625   E46        S  \n",
       "10      1   PP 9549  16.7000    G6        S  \n",
       "11      0    113783  26.5500  C103        S  "
      ]
     },
     "execution_count": 3,
     "metadata": {},
     "output_type": "execute_result"
    }
   ],
   "source": [
    "## Dropping entries having missing data\n",
    "passengerinfo.dropna().head()"
   ]
  },
  {
   "cell_type": "code",
   "execution_count": 19,
   "metadata": {
    "collapsed": false
   },
   "outputs": [
    {
     "name": "stdout",
     "output_type": "stream",
     "text": [
      "Rows with missing data = 708.0\n",
      "% Of Missing Data = 79.46 %\n"
     ]
    }
   ],
   "source": [
    "import numpy as np \n",
    "\n",
    "total_passengers = 891.0\n",
    "nonmissing_rows=len(passengerinfo.dropna())\n",
    "missing_data_rows = total_passengers - nonmissing_rows\n",
    "print '{} = {}'.format('Rows with missing data', missing_data_rows)\n",
    "\n",
    "## Finding percentage of missing data\n",
    "percent_missing_data =100 - len(passengerinfo.dropna()) * 1.0/len(passengerinfo) * 100\n",
    "print '{} = {} %'.format('% Of Missing Data', np.around(percent_missing_data, decimals=2))"
   ]
  },
  {
   "cell_type": "code",
   "execution_count": 20,
   "metadata": {
    "collapsed": false
   },
   "outputs": [
    {
     "name": "stdout",
     "output_type": "stream",
     "text": [
      "No. of rows with Missing Cabin Data = 687\n",
      "No. of rows with Missing Age Data = 177\n"
     ]
    }
   ],
   "source": [
    "## Finding Missing Cabin Data Rows\n",
    "missing_cabin_data_rows = len(passengerinfo['Cabin']) - passengerinfo['Cabin'].count()\n",
    "print '{} = {}'.format('No. of rows with Missing Cabin Data', missing_cabin_data_rows)\n",
    "\n",
    "## Finding Missing Age Data Rows\n",
    "missing_age_data_rows = len(passengerinfo['Age']) - passengerinfo['Age'].count()\n",
    "print '{} = {}'.format('No. of rows with Missing Age Data', missing_age_data_rows)"
   ]
  },
  {
   "cell_type": "markdown",
   "metadata": {},
   "source": [
    "As 708/891 (i.e. close to 80%) of the rows contain some missing data, we cannot remove all of them. Moreover, most of this missing data is Cabin data of the passenger, so it won't affect critical analysis other than that of Q3. "
   ]
  },
  {
   "cell_type": "markdown",
   "metadata": {},
   "source": [
    "## Exploration Phase\n",
    "\n",
    "### (i) General Statistics Of Data"
   ]
  },
  {
   "cell_type": "code",
   "execution_count": 21,
   "metadata": {
    "collapsed": false
   },
   "outputs": [
    {
     "data": {
      "text/html": [
       "<div>\n",
       "<table border=\"1\" class=\"dataframe\">\n",
       "  <thead>\n",
       "    <tr style=\"text-align: right;\">\n",
       "      <th></th>\n",
       "      <th>PassengerId</th>\n",
       "      <th>Survived</th>\n",
       "      <th>Pclass</th>\n",
       "      <th>Age</th>\n",
       "      <th>SibSp</th>\n",
       "      <th>Parch</th>\n",
       "      <th>Fare</th>\n",
       "    </tr>\n",
       "  </thead>\n",
       "  <tbody>\n",
       "    <tr>\n",
       "      <th>count</th>\n",
       "      <td>891.000000</td>\n",
       "      <td>891.000000</td>\n",
       "      <td>891.000000</td>\n",
       "      <td>714.000000</td>\n",
       "      <td>891.000000</td>\n",
       "      <td>891.000000</td>\n",
       "      <td>891.000000</td>\n",
       "    </tr>\n",
       "    <tr>\n",
       "      <th>mean</th>\n",
       "      <td>446.000000</td>\n",
       "      <td>0.383838</td>\n",
       "      <td>2.308642</td>\n",
       "      <td>29.699118</td>\n",
       "      <td>0.523008</td>\n",
       "      <td>0.381594</td>\n",
       "      <td>32.204208</td>\n",
       "    </tr>\n",
       "    <tr>\n",
       "      <th>std</th>\n",
       "      <td>257.353842</td>\n",
       "      <td>0.486592</td>\n",
       "      <td>0.836071</td>\n",
       "      <td>14.526497</td>\n",
       "      <td>1.102743</td>\n",
       "      <td>0.806057</td>\n",
       "      <td>49.693429</td>\n",
       "    </tr>\n",
       "    <tr>\n",
       "      <th>min</th>\n",
       "      <td>1.000000</td>\n",
       "      <td>0.000000</td>\n",
       "      <td>1.000000</td>\n",
       "      <td>0.420000</td>\n",
       "      <td>0.000000</td>\n",
       "      <td>0.000000</td>\n",
       "      <td>0.000000</td>\n",
       "    </tr>\n",
       "    <tr>\n",
       "      <th>25%</th>\n",
       "      <td>223.500000</td>\n",
       "      <td>0.000000</td>\n",
       "      <td>2.000000</td>\n",
       "      <td>20.125000</td>\n",
       "      <td>0.000000</td>\n",
       "      <td>0.000000</td>\n",
       "      <td>7.910400</td>\n",
       "    </tr>\n",
       "    <tr>\n",
       "      <th>50%</th>\n",
       "      <td>446.000000</td>\n",
       "      <td>0.000000</td>\n",
       "      <td>3.000000</td>\n",
       "      <td>28.000000</td>\n",
       "      <td>0.000000</td>\n",
       "      <td>0.000000</td>\n",
       "      <td>14.454200</td>\n",
       "    </tr>\n",
       "    <tr>\n",
       "      <th>75%</th>\n",
       "      <td>668.500000</td>\n",
       "      <td>1.000000</td>\n",
       "      <td>3.000000</td>\n",
       "      <td>38.000000</td>\n",
       "      <td>1.000000</td>\n",
       "      <td>0.000000</td>\n",
       "      <td>31.000000</td>\n",
       "    </tr>\n",
       "    <tr>\n",
       "      <th>max</th>\n",
       "      <td>891.000000</td>\n",
       "      <td>1.000000</td>\n",
       "      <td>3.000000</td>\n",
       "      <td>80.000000</td>\n",
       "      <td>8.000000</td>\n",
       "      <td>6.000000</td>\n",
       "      <td>512.329200</td>\n",
       "    </tr>\n",
       "  </tbody>\n",
       "</table>\n",
       "</div>"
      ],
      "text/plain": [
       "       PassengerId    Survived      Pclass         Age       SibSp  \\\n",
       "count   891.000000  891.000000  891.000000  714.000000  891.000000   \n",
       "mean    446.000000    0.383838    2.308642   29.699118    0.523008   \n",
       "std     257.353842    0.486592    0.836071   14.526497    1.102743   \n",
       "min       1.000000    0.000000    1.000000    0.420000    0.000000   \n",
       "25%     223.500000    0.000000    2.000000   20.125000    0.000000   \n",
       "50%     446.000000    0.000000    3.000000   28.000000    0.000000   \n",
       "75%     668.500000    1.000000    3.000000   38.000000    1.000000   \n",
       "max     891.000000    1.000000    3.000000   80.000000    8.000000   \n",
       "\n",
       "            Parch        Fare  \n",
       "count  891.000000  891.000000  \n",
       "mean     0.381594   32.204208  \n",
       "std      0.806057   49.693429  \n",
       "min      0.000000    0.000000  \n",
       "25%      0.000000    7.910400  \n",
       "50%      0.000000   14.454200  \n",
       "75%      0.000000   31.000000  \n",
       "max      6.000000  512.329200  "
      ]
     },
     "execution_count": 21,
     "metadata": {},
     "output_type": "execute_result"
    }
   ],
   "source": [
    "## Describing general statistics relating to each data column\n",
    "passengerinfo.describe()"
   ]
  },
  {
   "cell_type": "markdown",
   "metadata": {},
   "source": [
    "From the above data, we can see:\n",
    "Max aged passenger = 80 yrs\n",
    "Min aged passenger = 0.42 yrs\n",
    "Avg age of passenger = 29.69 yrs (~ 30 yrs)\n",
    "Max passenger fare = $512.32 (Quite a lot for that era)\n",
    "Min passenger fare = $0.00 (Don't know what to make of that)\n",
    "\n",
    "As this gives stats of only the numeric data, gender related stats cannot be generated from here."
   ]
  },
  {
   "cell_type": "code",
   "execution_count": 25,
   "metadata": {
    "collapsed": false
   },
   "outputs": [
    {
     "name": "stdout",
     "output_type": "stream",
     "text": [
      "Number of female passengers = 314\n",
      "Number of male passengers = 577\n",
      "% of female passengers = 35.24 %\n",
      "% of male passengers = 64.76 %\n"
     ]
    }
   ],
   "source": [
    "## Finding the number of male and female passengers\n",
    "female_pass = (passengerinfo[passengerinfo['Sex'] == 'female'])\n",
    "print '{} = {}'.format('Number of female passengers', len(female_pass))\n",
    "male_pass = (passengerinfo[passengerinfo['Sex'] == 'male'])\n",
    "print '{} = {}'.format('Number of male passengers', len(male_pass))\n",
    "\n",
    "\n",
    "## Finding the percentage of male and female passengers\n",
    "percent_female = len(female_pass)/total_passengers*100\n",
    "percent_male = len(male_pass)/total_passengers*100\n",
    "print '{} = {} %'.format('% of female passengers', np.around(percent_female, decimals=2))\n",
    "print '{} = {} %'.format('% of male passengers', np.around(percent_male, decimals=2))"
   ]
  },
  {
   "cell_type": "code",
   "execution_count": 40,
   "metadata": {
    "collapsed": false
   },
   "outputs": [
    {
     "data": {
      "text/plain": [
       "<matplotlib.text.Text at 0x1fac86a0>"
      ]
     },
     "execution_count": 40,
     "metadata": {},
     "output_type": "execute_result"
    },
    {
     "data": {
      "image/png": "[encoded data removed]",
      "text/plain": [
       "<matplotlib.figure.Figure at 0xd865208>"
      ]
     },
     "metadata": {},
     "output_type": "display_data"
    }
   ],
   "source": [
    "pass_gender = passengerinfo.groupby('Sex')\n",
    "sex = pass_gender.size()\n",
    "my_plot = sex.plot(kind='barh', title=\"No. Of Male & Female Passengers\", figsize=(7, 3))\n",
    "my_plot.set_xlabel(\"No. Of Passengers\")"
   ]
  },
  {
   "cell_type": "markdown",
   "metadata": {},
   "source": [
    "Therefore, the no.of men (64.76%) on board Titanic far exceeded the no. of women (35.24%)."
   ]
  },
  {
   "cell_type": "markdown",
   "metadata": {},
   "source": [
    "### (ii) What role did a passenger's gender play in his/her survival? "
   ]
  },
  {
   "cell_type": "code",
   "execution_count": 41,
   "metadata": {
    "collapsed": false
   },
   "outputs": [
    {
     "name": "stdout",
     "output_type": "stream",
     "text": [
      "% of surviving Females = 74.2\n",
      "% of surviving Males = 18.89\n"
     ]
    }
   ],
   "source": [
    "## Finding the percentage of female passengers who survived\n",
    "percent_female_survived = len(passengerinfo[(passengerinfo['Survived'] == 1) & (passengerinfo['Sex'] == \"female\")])/(len(female_pass)*1.0)*100\n",
    "print '{} = {}'.format('% of surviving Females', np.around(percent_female_survived, decimals=2))\n",
    "\n",
    "\n",
    "##Finding the percentage of male passengers who survived\n",
    "percent_male_survived = len(passengerinfo[(passengerinfo['Survived'] == 1) &  (passengerinfo['Sex'] == \"male\")])/(len(male_pass)*1.0)*100\n",
    "print '{} = {}'.format('% of surviving Males', np.around(percent_male_survived, decimals=2))\n"
   ]
  },
  {
   "cell_type": "code",
   "execution_count": 45,
   "metadata": {
    "collapsed": false
   },
   "outputs": [
    {
     "name": "stdout",
     "output_type": "stream",
     "text": [
      "Populating the interactive namespace from numpy and matplotlib\n"
     ]
    }
   ],
   "source": [
    "## Function to plot a graph of input data1 and data2\n",
    "import seaborn as sns\n",
    "import numpy as np\n",
    "import matplotlib.pyplot as plt\n",
    "%pylab inline\n",
    "\n",
    "def plotbar(data1, data2, title, c1, c2, n, l1,l2): \n",
    "    n_groups = 1\n",
    "    means_men = (data1)\n",
    "    means_women = (data2)\n",
    "    fig, ax = plt.subplots()\n",
    "    index = np.arange(n_groups)\n",
    "    bar_width = 0.3\n",
    "    opacity = 0.7\n",
    "    error_config = {'ecolor': '0.3'}\n",
    "\n",
    "    rects1 = plt.bar(index, means_men, bar_width,\n",
    "                     alpha=opacity,\n",
    "                     color=c1,\n",
    "                     yerr=0,\n",
    "                     error_kw=error_config,\n",
    "                     label=l1)\n",
    "\n",
    "    rects2 = plt.bar(index +0.5 + bar_width, means_women, bar_width,\n",
    "                     alpha=opacity,\n",
    "                     color=c2,\n",
    "                     yerr=0,\n",
    "                     error_kw=error_config,\n",
    "                     label=l2)\n",
    "\n",
    "    plt.xlabel('')\n",
    "    plt.ylabel('Percentages')\n",
    "    plt.title(title)\n",
    "    plt.xticks(index + bar_width, (''))\n",
    "    plt.legend()\n",
    "    plt.yticks(n)\n",
    "    plt.tight_layout()\n",
    "    plt.show()"
   ]
  },
  {
   "cell_type": "code",
   "execution_count": 47,
   "metadata": {
    "collapsed": false
   },
   "outputs": [
    {
     "data": {
      "image/png": "[encoded data removed]",
      "text/plain": [
       "<matplotlib.figure.Figure at 0x1f3a9ef0>"
      ]
     },
     "metadata": {},
     "output_type": "display_data"
    }
   ],
   "source": [
    "## Plotting the percentages of surviving males and females\n",
    "plotbar(percent_male_survived, percent_female_survived, '% of surviving male and female passengers','b','r',np.arange(0, 120, 10),'Surviving Men', 'Surviving Women')"
   ]
  },
  {
   "cell_type": "markdown",
   "metadata": {},
   "source": [
    "From these stats, we can see that the no. of surviving males is far less than the no. of surviving females, regardless of the fact that the no. of males far exceeded the females in the first place.\n",
    "I think this was due to the fact that during the evacuation process of RMS Titanic, the women, children and elderly were the first to board the lifeboats, with any remaining free spaces for men. The survival stats we see here most probably is a result of that decision by Captain Smith.  "
   ]
  },
  {
   "cell_type": "markdown",
   "metadata": {},
   "source": [
    "### (iii) What role did a passenger's age play in his/her survival?"
   ]
  },
  {
   "cell_type": "code",
   "execution_count": 50,
   "metadata": {
    "collapsed": false
   },
   "outputs": [
    {
     "name": "stdout",
     "output_type": "stream",
     "text": [
      "No. of Children = 113\n",
      "No. of Adults = 601\n",
      "No. of surviving children = 61\n",
      "No. of surviving adults = 229\n",
      "% of surviving children = 53.98 %\n",
      "% of surviving adults = 38.1 %\n"
     ]
    }
   ],
   "source": [
    "## Finding the number of children and adults who survived\n",
    "num_of_children= len(passengerinfo[passengerinfo['Age'] < 18])\n",
    "num_of_adults= len(passengerinfo[passengerinfo['Age'] >= 18])\n",
    "\n",
    "## In most countries of the world, minor is legally defined as a person under the age of 18\n",
    "num_of_children_who_survived= len(passengerinfo[(passengerinfo['Age'] < 18) & (passengerinfo['Survived'] == 1)])\n",
    "num_of_adults_who_survived= len(passengerinfo[(passengerinfo['Age'] >= 18) & (passengerinfo['Survived'] == 1)])\n",
    "\n",
    "print '{} = {}'.format('No. of Children',  num_of_children)\n",
    "print '{} = {}'.format('No. of Adults', num_of_adults)\n",
    "print '{} = {}'.format('No. of surviving children', num_of_children_who_survived)\n",
    "print '{} = {}'.format('No. of surviving adults', num_of_adults_who_survived)\n",
    "\n",
    "##Finding percentages of children and adults who survived\n",
    "percent_children_who_survived = num_of_children_who_survived*1.0/num_of_children * 100\n",
    "percent_adults_who_survived = num_of_adults_who_survived*1.0/num_of_adults * 100\n",
    "\n",
    "print '{} = {} %'.format('% of surviving children', np.around(percent_children_who_survived, decimals=2))\n",
    "print '{} = {} %'.format('% of surviving adults', np.around(percent_adults_who_survived, decimals=2))"
   ]
  },
  {
   "cell_type": "code",
   "execution_count": 67,
   "metadata": {
    "collapsed": false
   },
   "outputs": [
    {
     "data": {
      "image/png": "[encoded data removed]",
      "text/plain": [
       "<matplotlib.figure.Figure at 0x20f4e1d0>"
      ]
     },
     "metadata": {},
     "output_type": "display_data"
    }
   ],
   "source": [
    "## Plotting the percentages of surviving children and adults\n",
    "plotbar(percent_children_who_survived, percent_adults_who_survived, '% Of Surviving Children And Adults','b','g',np.arange(0, 70, 10),'Children','Adults')"
   ]
  },
  {
   "cell_type": "markdown",
   "metadata": {},
   "source": [
    "From these stats, it is evident that more percentage of children (age < 18) survived this disaster than adults. This might also result from the fact that ladies and children were the first to be evacuated in lifeboats when the ship started sinking."
   ]
  },
  {
   "cell_type": "markdown",
   "metadata": {},
   "source": [
    "### (iv) What role did a passenger's socio-economic class play in his/her survival?"
   ]
  },
  {
   "cell_type": "code",
   "execution_count": 52,
   "metadata": {
    "collapsed": false
   },
   "outputs": [
    {
     "name": "stdout",
     "output_type": "stream",
     "text": [
      "1st Class Passengers = 216\n",
      "2nd Class Passengers = 184\n",
      "3rd Class Passengers = 491\n",
      "Surviving 1st Class Passengers = 136\n",
      "Surviving 2nd Class Passengers = 87\n",
      "Surviving 3rd Class Passengers = 119\n"
     ]
    }
   ],
   "source": [
    "## Finding the number of passengers belonging to first, second and third class\n",
    "class1_pass= len(passengerinfo[passengerinfo['Pclass'] == 1])\n",
    "class2_pass= len(passengerinfo[passengerinfo['Pclass'] == 2])\n",
    "class3_pass= len(passengerinfo[passengerinfo['Pclass'] == 3])\n",
    "\n",
    "## Finding the number of passengers belonging to first, second and third class who did survived\n",
    "surviving_class1_pass = len(passengerinfo[(passengerinfo['Pclass'] == 1) & (passengerinfo['Survived'] == 1)])\n",
    "surviving_class2_pass = len(passengerinfo[(passengerinfo['Pclass'] == 2) & (passengerinfo['Survived'] == 1)])\n",
    "surviving_class3_pass = len(passengerinfo[(passengerinfo['Pclass'] == 3) & (passengerinfo['Survived'] == 1)])\n",
    "\n",
    "print '{} = {}'.format('1st Class Passengers', class1_pass)\n",
    "print '{} = {}'.format('2nd Class Passengers', class2_pass)\n",
    "print '{} = {}'.format('3rd Class Passengers', class3_pass)\n",
    "print '{} = {}'.format('Surviving 1st Class Passengers', surviving_class1_pass)\n",
    "print '{} = {}'.format('Surviving 2nd Class Passengers', surviving_class2_pass)\n",
    "print '{} = {}'.format('Surviving 3rd Class Passengers', surviving_class3_pass)"
   ]
  },
  {
   "cell_type": "code",
   "execution_count": 55,
   "metadata": {
    "collapsed": false
   },
   "outputs": [
    {
     "name": "stdout",
     "output_type": "stream",
     "text": [
      "% of surviving 1st Class Passengers = 62.96 %\n",
      "% of surviving 2nd Class Passengers = 47.28 %\n",
      "% of surviving 3rd Class Passengers = 24.24 %\n"
     ]
    }
   ],
   "source": [
    "## Finding percentages of people belonging to the first, second, third class who survived\n",
    "percent_surviving_class1_pass = surviving_class1_pass*1.0/class1_pass * 100\n",
    "percent_surviving_class2_pass = surviving_class2_pass*1.0/class2_pass * 100\n",
    "percent_surviving_class3_pass = surviving_class3_pass*1.0/class3_pass * 100\n",
    "\n",
    "print '{} = {} %'.format('% of surviving 1st Class Passengers', np.around(percent_surviving_class1_pass, decimals=2))\n",
    "print '{} = {} %'.format('% of surviving 2nd Class Passengers', np.around(percent_surviving_class2_pass, decimals=2))\n",
    "print '{} = {} %'.format('% of surviving 3rd Class Passengers', np.around(percent_surviving_class3_pass, decimals=2))"
   ]
  },
  {
   "cell_type": "code",
   "execution_count": 57,
   "metadata": {
    "collapsed": false
   },
   "outputs": [
    {
     "data": {
      "image/png": "[encoded data removed]",
      "text/plain": [
       "<matplotlib.figure.Figure at 0x20aa7518>"
      ]
     },
     "metadata": {},
     "output_type": "display_data"
    }
   ],
   "source": [
    "##Plotting percentages of people belonging to the first, second, third class who did/did not survive\n",
    "import numpy as np\n",
    "import matplotlib.pyplot as plt\n",
    "\n",
    "N = 3\n",
    "survivedMeans = (surviving_class1_pass, surviving_class2_pass, surviving_class3_pass)\n",
    "notsurvivedMeans = ((class1_pass - surviving_class1_pass), (class2_pass - surviving_class2_pass), (class3_pass - surviving_class3_pass))\n",
    "\n",
    "ind = np.arange(N)    # the x locations for the groups\n",
    "width = 0.35       # the width of the bars: can also be len(x) sequence\n",
    "\n",
    "p1 = plt.bar(ind, survivedMeans, width, color='y')\n",
    "p2 = plt.bar(ind, notsurvivedMeans, width, color='b', bottom=survivedMeans)\n",
    "\n",
    "plt.ylabel('Number of Passengers')\n",
    "plt.title('Survival Stats by Class')\n",
    "plt.xticks(ind + width/2, ('1st Class', '2nd Class', '3rd Class'))\n",
    "plt.yticks(np.arange(0, 800, 50))\n",
    "plt.legend((p1[0], p2[0]), ('Survived', 'Did Not Survive'))\n",
    "\n",
    "plt.show()"
   ]
  },
  {
   "cell_type": "markdown",
   "metadata": {},
   "source": [
    "It is evident from the stacked bar plot that the percentage of surviving 1st class passengers was greater than those of 2nd and 3rd class. This probably resulted from a bias given to passengers belonging to higher socio-economic classes during the boarding of the rescue boats. The most affected were the 3rd class passengers with a survival rate of less than 1 out of 4."
   ]
  },
  {
   "cell_type": "markdown",
   "metadata": {},
   "source": [
    "### (v) Did being a women passenger of a higher socio-economic status increase a passenger's chances of survival?"
   ]
  },
  {
   "cell_type": "code",
   "execution_count": 60,
   "metadata": {
    "collapsed": false
   },
   "outputs": [
    {
     "name": "stdout",
     "output_type": "stream",
     "text": [
      "% of surviving 1st Class Females = 96.81 %\n",
      "% of surviving 1st Class Males = 36.89 %\n",
      "% of surviving 2nd Class Females = 92.11 %\n",
      "% of surviving 2nd Class Males = 15.74 %\n",
      "% of surviving 3rd Class Females = 50.0 %\n",
      "% of surviving 3rd Class Males = 13.54 %\n"
     ]
    }
   ],
   "source": [
    "## Finding number of males and females belonging to different classes \n",
    "class1_females = len(passengerinfo[(passengerinfo['Pclass'] ==1) & (passengerinfo['Sex'] == \"female\")])\n",
    "class1_males = len(passengerinfo[(passengerinfo['Pclass'] ==1) & (passengerinfo['Sex'] == \"male\")])\n",
    "class2_females = len(passengerinfo[(passengerinfo['Pclass'] ==2) & (passengerinfo['Sex'] == \"female\")])\n",
    "class2_males = len(passengerinfo[(passengerinfo['Pclass'] ==2) & (passengerinfo['Sex'] == \"male\")])\n",
    "class3_females = len(passengerinfo[(passengerinfo['Pclass'] ==3) & (passengerinfo['Sex'] == \"female\")])\n",
    "class3_males = len(passengerinfo[(passengerinfo['Pclass'] ==3) & (passengerinfo['Sex'] == \"male\")])\n",
    "\n",
    "surviving_class1_females = len(passengerinfo[(passengerinfo['Pclass'] == 1) & (passengerinfo['Survived'] == 1) & (passengerinfo['Sex']==\"female\")])\n",
    "surviving_class1_males = len(passengerinfo[(passengerinfo['Pclass'] == 1) & (passengerinfo['Survived'] == 1) & (passengerinfo['Sex']==\"male\")])\n",
    "surviving_class2_females = len(passengerinfo[(passengerinfo['Pclass'] == 2) & (passengerinfo['Survived'] == 1) & (passengerinfo['Sex']==\"female\")])\n",
    "surviving_class2_males = len(passengerinfo[(passengerinfo['Pclass'] == 2) & (passengerinfo['Survived'] == 1) & (passengerinfo['Sex']==\"male\")])\n",
    "surviving_class3_females = len(passengerinfo[(passengerinfo['Pclass'] == 3) & (passengerinfo['Survived'] == 1) & (passengerinfo['Sex']==\"female\")])\n",
    "surviving_class3_males = len(passengerinfo[(passengerinfo['Pclass'] == 3) & (passengerinfo['Survived'] == 1) & (passengerinfo['Sex']==\"male\")])\n",
    "\n",
    "## Finding percentages of males and females belonging to different classes \n",
    "percent_class1_females = surviving_class1_females*1.0/class1_females*100\n",
    "percent_class1_males = surviving_class1_males*1.0/class1_males*100\n",
    "percent_class2_females = surviving_class2_females*1.0/class2_females*100\n",
    "percent_class2_males = surviving_class2_males*1.0/class2_males*100\n",
    "percent_class3_females = surviving_class3_females*1.0/class3_females*100\n",
    "percent_class3_males = surviving_class3_males*1.0/class3_males*100\n",
    "\n",
    "print '{} = {} %'.format('% of surviving 1st Class Females', np.around(percent_class1_females, decimals=2))\n",
    "print '{} = {} %'.format('% of surviving 1st Class Males', np.around(percent_class1_males, decimals=2))\n",
    "print '{} = {} %'.format('% of surviving 2nd Class Females', np.around(percent_class2_females, decimals=2))\n",
    "print '{} = {} %'.format('% of surviving 2nd Class Males', np.around(percent_class2_males, decimals=2))\n",
    "print '{} = {} %'.format('% of surviving 3rd Class Females', np.around(percent_class3_females, decimals=2))\n",
    "print '{} = {} %'.format('% of surviving 3rd Class Males', np.around(percent_class3_males, decimals=2))"
   ]
  },
  {
   "cell_type": "code",
   "execution_count": 63,
   "metadata": {
    "collapsed": false
   },
   "outputs": [
    {
     "name": "stdout",
     "output_type": "stream",
     "text": [
      "Populating the interactive namespace from numpy and matplotlib\n"
     ]
    },
    {
     "data": {
      "image/png": "[encoded data removed]",
      "text/plain": [
       "<matplotlib.figure.Figure at 0x205e4b00>"
      ]
     },
     "metadata": {},
     "output_type": "display_data"
    }
   ],
   "source": [
    "## Plotting percentages of males, females belonging to different classes \n",
    "import numpy as np\n",
    "import matplotlib.pyplot as plt\n",
    "%pylab inline\n",
    "\n",
    "\n",
    "n_groups = 3\n",
    "means_men = (percent_class1_males, percent_class2_males, percent_class3_males)\n",
    "means_women = (percent_class1_females, percent_class2_females, percent_class3_females)\n",
    "\n",
    "\n",
    "fig, ax = plt.subplots()\n",
    "index = np.arange(n_groups)\n",
    "bar_width = 0.35\n",
    "opacity = 0.7\n",
    "error_config = {'ecolor': '0.3'}\n",
    "\n",
    "rects1 = plt.bar(index, means_men, bar_width,\n",
    "                 alpha=opacity,\n",
    "                 color='y',\n",
    "                 yerr=0,\n",
    "                 error_kw=error_config,\n",
    "                 label='Men')\n",
    "rects2 = plt.bar(index + bar_width, means_women, bar_width,\n",
    "                 alpha=opacity,\n",
    "                 color='g',\n",
    "                 yerr=0,\n",
    "                 error_kw=error_config,\n",
    "                 label='Women')\n",
    "\n",
    "plt.xlabel('Classes')\n",
    "plt.ylabel('Percentages')\n",
    "plt.title('Percentage Of Men And Women Who Survived')\n",
    "plt.xticks(index + bar_width, ('First Class', 'Second Class', 'Third Class'))\n",
    "plt.legend()\n",
    "\n",
    "plt.tight_layout()\n",
    "plt.show()"
   ]
  },
  {
   "cell_type": "markdown",
   "metadata": {},
   "source": [
    "From here, we can conclude\n",
    "% 1st Class Women Survivors > % 2nd Class Women Survivors > % 3rd Class Women Survivors  , and\n",
    "% 1st Class Men Survivors > % 2nd Class Men Survivors > % 3rd Class Men Survivors"
   ]
  },
  {
   "cell_type": "markdown",
   "metadata": {},
   "source": [
    "### (vi) Did travelling with family/companion affect a passenger's survival?"
   ]
  },
  {
   "cell_type": "code",
   "execution_count": 64,
   "metadata": {
    "collapsed": false
   },
   "outputs": [
    {
     "name": "stdout",
     "output_type": "stream",
     "text": [
      "Survival % Of Passengers travelling with company = 50.56 %\n",
      "Survival % Of Passengers travelling alone = 30.35 %\n"
     ]
    }
   ],
   "source": [
    "## Number of passengers who were travelling with a companion/family\n",
    "not_alone = (passengerinfo[(passengerinfo['SibSp']>0) | (passengerinfo['Parch']>0)])\n",
    "\n",
    "## Number of passengers who were travelling alone\n",
    "alone = (passengerinfo[(passengerinfo['SibSp']==0) & (passengerinfo['Parch']==0)])\n",
    "\n",
    "not_alone_survived = (passengerinfo[((passengerinfo['SibSp']>0) | (passengerinfo['Parch']>0)) & passengerinfo['Survived']])\n",
    "alone_survived = (passengerinfo[((passengerinfo['SibSp']==0) & (passengerinfo['Parch']==0)) & passengerinfo['Survived']])\n",
    "\n",
    "## Percentages of passengers who were travelling alone/with company who survived/did not survive\n",
    "percent_not_alone_survived = len(not_alone_survived)* 1.0/len(not_alone)*100\n",
    "percent_alone_survived = len(alone_survived)* 1.0/len(alone)*100\n",
    "\n",
    "print '{} = {} %'.format('Survival % Of Passengers travelling with company', np.around(percent_not_alone_survived, decimals=2))\n",
    "print '{} = {} %'.format('Survival % Of Passengers travelling alone', np.around(percent_alone_survived, decimals=2))"
   ]
  },
  {
   "cell_type": "code",
   "execution_count": 66,
   "metadata": {
    "collapsed": false
   },
   "outputs": [
    {
     "data": {
      "image/png": "[encoded data removed]",
      "text/plain": [
       "<matplotlib.figure.Figure at 0x20ded0b8>"
      ]
     },
     "metadata": {},
     "output_type": "display_data"
    }
   ],
   "source": [
    "## Plotting percentages of passengers who are travelling alone/with company who survived/did not survive\n",
    "plotbar(percent_alone_survived, percent_not_alone_survived, 'Percentage of Survivors','purple','green',np.arange(0, 70, 10),'Alone','With Company')"
   ]
  },
  {
   "cell_type": "markdown",
   "metadata": {},
   "source": [
    "Clearly, passengers who travelled with family or a companion had a higher chance of survival than those who travelled alone. Travelling with someone who could help you to safety would definitely weigh in favour of those travelling with company. "
   ]
  },
  {
   "cell_type": "markdown",
   "metadata": {},
   "source": [
    "## Conclusion\n",
    "#### (i) The no. of surviving females (74.20%) far exceeded the no. of surviving males (18.89%) aboard RMS Titanic.\n",
    "#### (ii) Similarly, the no. of children surviving the disaster (53.98%) significantly exceeded the no. of adults (38.10%).\n",
    "#### (iii) Significantly more 1st Class passengers (62.96%) survived compared to 2nd Class (47.28%) and 3rd Class (24.24%) passengers. \n",
    "#### (iv) Passengers travelling with company had a higher survival rate (50.56%) than those who were travelling alone (30.35%)."
   ]
  },
  {
   "cell_type": "markdown",
   "metadata": {},
   "source": [
    "## References :\n",
    "https://www.kaggle.com/c/titanic/data\n",
    "https://en.wikipedia.org/wiki/Women_and_children_first\n",
    "http://pbpython.com/simple-graphing-pandas.html\n",
    "http://pandas.pydata.org/pandas-docs/stable/visualization.html"
   ]
  }
 ],
 "metadata": {
  "kernelspec": {
   "display_name": "Python 2",
   "language": "python",
   "name": "python2"
  },
  "language_info": {
   "codemirror_mode": {
    "name": "ipython",
    "version": 2
   },
   "file_extension": ".py",
   "mimetype": "text/x-python",
   "name": "python",
   "nbconvert_exporter": "python",
   "pygments_lexer": "ipython2",
   "version": "2.7.11"
  }
 },
 "nbformat": 4,
 "nbformat_minor": 0
}
